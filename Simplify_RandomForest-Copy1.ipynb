{
 "cells": [
  {
   "cell_type": "code",
   "execution_count": 1,
   "metadata": {},
   "outputs": [],
   "source": [
    "import pandas as pd\n",
    "import numpy as np\n",
    "import matplotlib.pyplot as plt"
   ]
  },
  {
   "cell_type": "code",
   "execution_count": 2,
   "metadata": {},
   "outputs": [
    {
     "data": {
      "text/html": [
       "<div>\n",
       "<style scoped>\n",
       "    .dataframe tbody tr th:only-of-type {\n",
       "        vertical-align: middle;\n",
       "    }\n",
       "\n",
       "    .dataframe tbody tr th {\n",
       "        vertical-align: top;\n",
       "    }\n",
       "\n",
       "    .dataframe thead th {\n",
       "        text-align: right;\n",
       "    }\n",
       "</style>\n",
       "<table border=\"1\" class=\"dataframe\">\n",
       "  <thead>\n",
       "    <tr style=\"text-align: right;\">\n",
       "      <th></th>\n",
       "      <th>Id</th>\n",
       "      <th>MSSubClass</th>\n",
       "      <th>MSZoning</th>\n",
       "      <th>LotFrontage</th>\n",
       "      <th>LotArea</th>\n",
       "      <th>Street</th>\n",
       "      <th>Alley</th>\n",
       "      <th>LotShape</th>\n",
       "      <th>LandContour</th>\n",
       "      <th>Utilities</th>\n",
       "      <th>LotConfig</th>\n",
       "      <th>LandSlope</th>\n",
       "      <th>Neighborhood</th>\n",
       "      <th>Condition1</th>\n",
       "      <th>Condition2</th>\n",
       "      <th>BldgType</th>\n",
       "      <th>HouseStyle</th>\n",
       "      <th>OverallQual</th>\n",
       "      <th>OverallCond</th>\n",
       "      <th>YearBuilt</th>\n",
       "      <th>YearRemodAdd</th>\n",
       "      <th>RoofStyle</th>\n",
       "      <th>RoofMatl</th>\n",
       "      <th>Exterior1st</th>\n",
       "      <th>Exterior2nd</th>\n",
       "      <th>MasVnrType</th>\n",
       "      <th>MasVnrArea</th>\n",
       "      <th>ExterQual</th>\n",
       "      <th>ExterCond</th>\n",
       "      <th>Foundation</th>\n",
       "      <th>BsmtQual</th>\n",
       "      <th>BsmtCond</th>\n",
       "      <th>BsmtExposure</th>\n",
       "      <th>BsmtFinType1</th>\n",
       "      <th>BsmtFinSF1</th>\n",
       "      <th>BsmtFinType2</th>\n",
       "      <th>BsmtFinSF2</th>\n",
       "      <th>BsmtUnfSF</th>\n",
       "      <th>TotalBsmtSF</th>\n",
       "      <th>Heating</th>\n",
       "      <th>HeatingQC</th>\n",
       "      <th>CentralAir</th>\n",
       "      <th>Electrical</th>\n",
       "      <th>1stFlrSF</th>\n",
       "      <th>2ndFlrSF</th>\n",
       "      <th>LowQualFinSF</th>\n",
       "      <th>GrLivArea</th>\n",
       "      <th>BsmtFullBath</th>\n",
       "      <th>BsmtHalfBath</th>\n",
       "      <th>FullBath</th>\n",
       "      <th>HalfBath</th>\n",
       "      <th>BedroomAbvGr</th>\n",
       "      <th>KitchenAbvGr</th>\n",
       "      <th>KitchenQual</th>\n",
       "      <th>TotRmsAbvGrd</th>\n",
       "      <th>Functional</th>\n",
       "      <th>Fireplaces</th>\n",
       "      <th>FireplaceQu</th>\n",
       "      <th>GarageType</th>\n",
       "      <th>GarageYrBlt</th>\n",
       "      <th>GarageFinish</th>\n",
       "      <th>GarageCars</th>\n",
       "      <th>GarageArea</th>\n",
       "      <th>GarageQual</th>\n",
       "      <th>GarageCond</th>\n",
       "      <th>PavedDrive</th>\n",
       "      <th>WoodDeckSF</th>\n",
       "      <th>OpenPorchSF</th>\n",
       "      <th>EnclosedPorch</th>\n",
       "      <th>3SsnPorch</th>\n",
       "      <th>ScreenPorch</th>\n",
       "      <th>PoolArea</th>\n",
       "      <th>PoolQC</th>\n",
       "      <th>Fence</th>\n",
       "      <th>MiscFeature</th>\n",
       "      <th>MiscVal</th>\n",
       "      <th>MoSold</th>\n",
       "      <th>YrSold</th>\n",
       "      <th>SaleType</th>\n",
       "      <th>SaleCondition</th>\n",
       "      <th>SalePrice</th>\n",
       "    </tr>\n",
       "  </thead>\n",
       "  <tbody>\n",
       "    <tr>\n",
       "      <th>0</th>\n",
       "      <td>1</td>\n",
       "      <td>60</td>\n",
       "      <td>RL</td>\n",
       "      <td>65.0</td>\n",
       "      <td>8450</td>\n",
       "      <td>Pave</td>\n",
       "      <td>NaN</td>\n",
       "      <td>Reg</td>\n",
       "      <td>Lvl</td>\n",
       "      <td>AllPub</td>\n",
       "      <td>Inside</td>\n",
       "      <td>Gtl</td>\n",
       "      <td>CollgCr</td>\n",
       "      <td>Norm</td>\n",
       "      <td>Norm</td>\n",
       "      <td>1Fam</td>\n",
       "      <td>2Story</td>\n",
       "      <td>7</td>\n",
       "      <td>5</td>\n",
       "      <td>2003</td>\n",
       "      <td>2003</td>\n",
       "      <td>Gable</td>\n",
       "      <td>CompShg</td>\n",
       "      <td>VinylSd</td>\n",
       "      <td>VinylSd</td>\n",
       "      <td>BrkFace</td>\n",
       "      <td>196.0</td>\n",
       "      <td>Gd</td>\n",
       "      <td>TA</td>\n",
       "      <td>PConc</td>\n",
       "      <td>Gd</td>\n",
       "      <td>TA</td>\n",
       "      <td>No</td>\n",
       "      <td>GLQ</td>\n",
       "      <td>706</td>\n",
       "      <td>Unf</td>\n",
       "      <td>0</td>\n",
       "      <td>150</td>\n",
       "      <td>856</td>\n",
       "      <td>GasA</td>\n",
       "      <td>Ex</td>\n",
       "      <td>Y</td>\n",
       "      <td>SBrkr</td>\n",
       "      <td>856</td>\n",
       "      <td>854</td>\n",
       "      <td>0</td>\n",
       "      <td>1710</td>\n",
       "      <td>1</td>\n",
       "      <td>0</td>\n",
       "      <td>2</td>\n",
       "      <td>1</td>\n",
       "      <td>3</td>\n",
       "      <td>1</td>\n",
       "      <td>Gd</td>\n",
       "      <td>8</td>\n",
       "      <td>Typ</td>\n",
       "      <td>0</td>\n",
       "      <td>NaN</td>\n",
       "      <td>Attchd</td>\n",
       "      <td>2003.0</td>\n",
       "      <td>RFn</td>\n",
       "      <td>2</td>\n",
       "      <td>548</td>\n",
       "      <td>TA</td>\n",
       "      <td>TA</td>\n",
       "      <td>Y</td>\n",
       "      <td>0</td>\n",
       "      <td>61</td>\n",
       "      <td>0</td>\n",
       "      <td>0</td>\n",
       "      <td>0</td>\n",
       "      <td>0</td>\n",
       "      <td>NaN</td>\n",
       "      <td>NaN</td>\n",
       "      <td>NaN</td>\n",
       "      <td>0</td>\n",
       "      <td>2</td>\n",
       "      <td>2008</td>\n",
       "      <td>WD</td>\n",
       "      <td>Normal</td>\n",
       "      <td>208500</td>\n",
       "    </tr>\n",
       "    <tr>\n",
       "      <th>1</th>\n",
       "      <td>2</td>\n",
       "      <td>20</td>\n",
       "      <td>RL</td>\n",
       "      <td>80.0</td>\n",
       "      <td>9600</td>\n",
       "      <td>Pave</td>\n",
       "      <td>NaN</td>\n",
       "      <td>Reg</td>\n",
       "      <td>Lvl</td>\n",
       "      <td>AllPub</td>\n",
       "      <td>FR2</td>\n",
       "      <td>Gtl</td>\n",
       "      <td>Veenker</td>\n",
       "      <td>Feedr</td>\n",
       "      <td>Norm</td>\n",
       "      <td>1Fam</td>\n",
       "      <td>1Story</td>\n",
       "      <td>6</td>\n",
       "      <td>8</td>\n",
       "      <td>1976</td>\n",
       "      <td>1976</td>\n",
       "      <td>Gable</td>\n",
       "      <td>CompShg</td>\n",
       "      <td>MetalSd</td>\n",
       "      <td>MetalSd</td>\n",
       "      <td>None</td>\n",
       "      <td>0.0</td>\n",
       "      <td>TA</td>\n",
       "      <td>TA</td>\n",
       "      <td>CBlock</td>\n",
       "      <td>Gd</td>\n",
       "      <td>TA</td>\n",
       "      <td>Gd</td>\n",
       "      <td>ALQ</td>\n",
       "      <td>978</td>\n",
       "      <td>Unf</td>\n",
       "      <td>0</td>\n",
       "      <td>284</td>\n",
       "      <td>1262</td>\n",
       "      <td>GasA</td>\n",
       "      <td>Ex</td>\n",
       "      <td>Y</td>\n",
       "      <td>SBrkr</td>\n",
       "      <td>1262</td>\n",
       "      <td>0</td>\n",
       "      <td>0</td>\n",
       "      <td>1262</td>\n",
       "      <td>0</td>\n",
       "      <td>1</td>\n",
       "      <td>2</td>\n",
       "      <td>0</td>\n",
       "      <td>3</td>\n",
       "      <td>1</td>\n",
       "      <td>TA</td>\n",
       "      <td>6</td>\n",
       "      <td>Typ</td>\n",
       "      <td>1</td>\n",
       "      <td>TA</td>\n",
       "      <td>Attchd</td>\n",
       "      <td>1976.0</td>\n",
       "      <td>RFn</td>\n",
       "      <td>2</td>\n",
       "      <td>460</td>\n",
       "      <td>TA</td>\n",
       "      <td>TA</td>\n",
       "      <td>Y</td>\n",
       "      <td>298</td>\n",
       "      <td>0</td>\n",
       "      <td>0</td>\n",
       "      <td>0</td>\n",
       "      <td>0</td>\n",
       "      <td>0</td>\n",
       "      <td>NaN</td>\n",
       "      <td>NaN</td>\n",
       "      <td>NaN</td>\n",
       "      <td>0</td>\n",
       "      <td>5</td>\n",
       "      <td>2007</td>\n",
       "      <td>WD</td>\n",
       "      <td>Normal</td>\n",
       "      <td>181500</td>\n",
       "    </tr>\n",
       "  </tbody>\n",
       "</table>\n",
       "</div>"
      ],
      "text/plain": [
       "   Id  MSSubClass MSZoning  LotFrontage  LotArea Street Alley LotShape  \\\n",
       "0   1          60       RL         65.0     8450   Pave   NaN      Reg   \n",
       "1   2          20       RL         80.0     9600   Pave   NaN      Reg   \n",
       "\n",
       "  LandContour Utilities LotConfig LandSlope Neighborhood Condition1  \\\n",
       "0         Lvl    AllPub    Inside       Gtl      CollgCr       Norm   \n",
       "1         Lvl    AllPub       FR2       Gtl      Veenker      Feedr   \n",
       "\n",
       "  Condition2 BldgType HouseStyle  OverallQual  OverallCond  YearBuilt  \\\n",
       "0       Norm     1Fam     2Story            7            5       2003   \n",
       "1       Norm     1Fam     1Story            6            8       1976   \n",
       "\n",
       "   YearRemodAdd RoofStyle RoofMatl Exterior1st Exterior2nd MasVnrType  \\\n",
       "0          2003     Gable  CompShg     VinylSd     VinylSd    BrkFace   \n",
       "1          1976     Gable  CompShg     MetalSd     MetalSd       None   \n",
       "\n",
       "   MasVnrArea ExterQual ExterCond Foundation BsmtQual BsmtCond BsmtExposure  \\\n",
       "0       196.0        Gd        TA      PConc       Gd       TA           No   \n",
       "1         0.0        TA        TA     CBlock       Gd       TA           Gd   \n",
       "\n",
       "  BsmtFinType1  BsmtFinSF1 BsmtFinType2  BsmtFinSF2  BsmtUnfSF  TotalBsmtSF  \\\n",
       "0          GLQ         706          Unf           0        150          856   \n",
       "1          ALQ         978          Unf           0        284         1262   \n",
       "\n",
       "  Heating HeatingQC CentralAir Electrical  1stFlrSF  2ndFlrSF  LowQualFinSF  \\\n",
       "0    GasA        Ex          Y      SBrkr       856       854             0   \n",
       "1    GasA        Ex          Y      SBrkr      1262         0             0   \n",
       "\n",
       "   GrLivArea  BsmtFullBath  BsmtHalfBath  FullBath  HalfBath  BedroomAbvGr  \\\n",
       "0       1710             1             0         2         1             3   \n",
       "1       1262             0             1         2         0             3   \n",
       "\n",
       "   KitchenAbvGr KitchenQual  TotRmsAbvGrd Functional  Fireplaces FireplaceQu  \\\n",
       "0             1          Gd             8        Typ           0         NaN   \n",
       "1             1          TA             6        Typ           1          TA   \n",
       "\n",
       "  GarageType  GarageYrBlt GarageFinish  GarageCars  GarageArea GarageQual  \\\n",
       "0     Attchd       2003.0          RFn           2         548         TA   \n",
       "1     Attchd       1976.0          RFn           2         460         TA   \n",
       "\n",
       "  GarageCond PavedDrive  WoodDeckSF  OpenPorchSF  EnclosedPorch  3SsnPorch  \\\n",
       "0         TA          Y           0           61              0          0   \n",
       "1         TA          Y         298            0              0          0   \n",
       "\n",
       "   ScreenPorch  PoolArea PoolQC Fence MiscFeature  MiscVal  MoSold  YrSold  \\\n",
       "0            0         0    NaN   NaN         NaN        0       2    2008   \n",
       "1            0         0    NaN   NaN         NaN        0       5    2007   \n",
       "\n",
       "  SaleType SaleCondition  SalePrice  \n",
       "0       WD        Normal     208500  \n",
       "1       WD        Normal     181500  "
      ]
     },
     "execution_count": 2,
     "metadata": {},
     "output_type": "execute_result"
    }
   ],
   "source": [
    "imported_data=pd.read_csv(\"../Kaggle_Housing_Prices/train.csv\")\n",
    "pd.options.display.max_columns=None\n",
    "imported_data.head(2)"
   ]
  },
  {
   "cell_type": "code",
   "execution_count": 3,
   "metadata": {},
   "outputs": [],
   "source": [
    "clean_df=imported_data.copy()"
   ]
  },
  {
   "cell_type": "code",
   "execution_count": 4,
   "metadata": {},
   "outputs": [],
   "source": [
    "## drop Id.  DF has index\n",
    "clean_df.drop(\"Id\", axis=1, inplace=True)"
   ]
  },
  {
   "cell_type": "markdown",
   "metadata": {},
   "source": [
    "### Null Values"
   ]
  },
  {
   "cell_type": "code",
   "execution_count": 5,
   "metadata": {},
   "outputs": [],
   "source": [
    "## Many houses do not have basements.  fill basement NaN's with 'none'\n",
    "clean_df['BsmtQual'].fillna('none', inplace=True)\n",
    "clean_df['BsmtCond'].fillna('none', inplace=True)\n",
    "clean_df['BsmtExposure'].fillna('none', inplace=True)\n",
    "clean_df['BsmtFinType1'].fillna('none', inplace=True)\n",
    "clean_df['BsmtFinType2'].fillna('none', inplace=True)"
   ]
  },
  {
   "cell_type": "code",
   "execution_count": 6,
   "metadata": {},
   "outputs": [],
   "source": [
    "## fill Alley NaN's with 'none'\n",
    "clean_df['Alley'].fillna('none', inplace=True)\n",
    "\n",
    "## fil Lot Frontage with Median\n",
    "median=clean_df['LotFrontage'].median()\n",
    "clean_df['LotFrontage'].fillna(median, inplace=True)"
   ]
  },
  {
   "cell_type": "code",
   "execution_count": 7,
   "metadata": {},
   "outputs": [],
   "source": [
    "## fill 1 NaN Electrical with SBrkr ( was built in 2006)\n",
    "clean_df['Electrical'].fillna('SBrkr', inplace=True)"
   ]
  },
  {
   "cell_type": "code",
   "execution_count": 8,
   "metadata": {},
   "outputs": [],
   "source": [
    "## fil fireplaceQual NaN's with 'none'\n",
    "clean_df['FireplaceQu'].fillna('none', inplace=True)"
   ]
  },
  {
   "cell_type": "code",
   "execution_count": 9,
   "metadata": {},
   "outputs": [],
   "source": [
    "## take care of garage NaN's\n",
    "\n",
    "clean_df['GarageType'].fillna('none', inplace=True)\n",
    "clean_df['GarageYrBlt'].fillna(0, inplace=True)\n",
    "clean_df['GarageFinish'].fillna('none', inplace=True)\n",
    "clean_df['GarageQual'].fillna('none', inplace=True)\n",
    "clean_df['GarageCond'].fillna('none', inplace=True)"
   ]
  },
  {
   "cell_type": "code",
   "execution_count": 10,
   "metadata": {},
   "outputs": [],
   "source": [
    "## Drop pool and MiscFeature columns\n",
    "clean_df.drop(['PoolQC', 'PoolArea', 'MiscFeature'], axis=1, inplace=True)"
   ]
  },
  {
   "cell_type": "code",
   "execution_count": 11,
   "metadata": {},
   "outputs": [],
   "source": [
    "clean_df['Fence'].fillna('none', inplace=True)\n",
    "clean_df['MasVnrType'].fillna('none', inplace=True)\n",
    "clean_df['MasVnrArea'].fillna(0, inplace=True)"
   ]
  },
  {
   "cell_type": "code",
   "execution_count": 12,
   "metadata": {},
   "outputs": [
    {
     "data": {
      "text/plain": [
       "MSSubClass     0\n",
       "MSZoning       0\n",
       "LotFrontage    0\n",
       "LotArea        0\n",
       "Street         0\n",
       "dtype: int64"
      ]
     },
     "execution_count": 12,
     "metadata": {},
     "output_type": "execute_result"
    }
   ],
   "source": [
    "### No more NaN's in dataset\n",
    "pd.options.display.max_rows=None\n",
    "clean_df.isnull().sum()[:5]"
   ]
  },
  {
   "cell_type": "markdown",
   "metadata": {},
   "source": [
    "### Quality can be numerical"
   ]
  },
  {
   "cell_type": "code",
   "execution_count": 13,
   "metadata": {},
   "outputs": [
    {
     "data": {
      "text/html": [
       "<div>\n",
       "<style scoped>\n",
       "    .dataframe tbody tr th:only-of-type {\n",
       "        vertical-align: middle;\n",
       "    }\n",
       "\n",
       "    .dataframe tbody tr th {\n",
       "        vertical-align: top;\n",
       "    }\n",
       "\n",
       "    .dataframe thead th {\n",
       "        text-align: right;\n",
       "    }\n",
       "</style>\n",
       "<table border=\"1\" class=\"dataframe\">\n",
       "  <thead>\n",
       "    <tr style=\"text-align: right;\">\n",
       "      <th></th>\n",
       "      <th>MSSubClass</th>\n",
       "      <th>MSZoning</th>\n",
       "      <th>LotFrontage</th>\n",
       "      <th>LotArea</th>\n",
       "      <th>Street</th>\n",
       "      <th>Alley</th>\n",
       "      <th>LotShape</th>\n",
       "      <th>LandContour</th>\n",
       "      <th>Utilities</th>\n",
       "      <th>LotConfig</th>\n",
       "      <th>LandSlope</th>\n",
       "      <th>Neighborhood</th>\n",
       "      <th>Condition1</th>\n",
       "      <th>Condition2</th>\n",
       "      <th>BldgType</th>\n",
       "      <th>HouseStyle</th>\n",
       "      <th>OverallQual</th>\n",
       "      <th>OverallCond</th>\n",
       "      <th>YearBuilt</th>\n",
       "      <th>YearRemodAdd</th>\n",
       "      <th>RoofStyle</th>\n",
       "      <th>RoofMatl</th>\n",
       "      <th>Exterior1st</th>\n",
       "      <th>Exterior2nd</th>\n",
       "      <th>MasVnrType</th>\n",
       "      <th>MasVnrArea</th>\n",
       "      <th>ExterQual</th>\n",
       "      <th>ExterCond</th>\n",
       "      <th>Foundation</th>\n",
       "      <th>BsmtQual</th>\n",
       "      <th>BsmtCond</th>\n",
       "      <th>BsmtExposure</th>\n",
       "      <th>BsmtFinType1</th>\n",
       "      <th>BsmtFinSF1</th>\n",
       "      <th>BsmtFinType2</th>\n",
       "      <th>BsmtFinSF2</th>\n",
       "      <th>BsmtUnfSF</th>\n",
       "      <th>TotalBsmtSF</th>\n",
       "      <th>Heating</th>\n",
       "      <th>HeatingQC</th>\n",
       "      <th>CentralAir</th>\n",
       "      <th>Electrical</th>\n",
       "      <th>1stFlrSF</th>\n",
       "      <th>2ndFlrSF</th>\n",
       "      <th>LowQualFinSF</th>\n",
       "      <th>GrLivArea</th>\n",
       "      <th>BsmtFullBath</th>\n",
       "      <th>BsmtHalfBath</th>\n",
       "      <th>FullBath</th>\n",
       "      <th>HalfBath</th>\n",
       "      <th>BedroomAbvGr</th>\n",
       "      <th>KitchenAbvGr</th>\n",
       "      <th>KitchenQual</th>\n",
       "      <th>TotRmsAbvGrd</th>\n",
       "      <th>Functional</th>\n",
       "      <th>Fireplaces</th>\n",
       "      <th>FireplaceQu</th>\n",
       "      <th>GarageType</th>\n",
       "      <th>GarageYrBlt</th>\n",
       "      <th>GarageFinish</th>\n",
       "      <th>GarageCars</th>\n",
       "      <th>GarageArea</th>\n",
       "      <th>GarageQual</th>\n",
       "      <th>GarageCond</th>\n",
       "      <th>PavedDrive</th>\n",
       "      <th>WoodDeckSF</th>\n",
       "      <th>OpenPorchSF</th>\n",
       "      <th>EnclosedPorch</th>\n",
       "      <th>3SsnPorch</th>\n",
       "      <th>ScreenPorch</th>\n",
       "      <th>Fence</th>\n",
       "      <th>MiscVal</th>\n",
       "      <th>MoSold</th>\n",
       "      <th>YrSold</th>\n",
       "      <th>SaleType</th>\n",
       "      <th>SaleCondition</th>\n",
       "      <th>SalePrice</th>\n",
       "    </tr>\n",
       "  </thead>\n",
       "  <tbody>\n",
       "    <tr>\n",
       "      <th>0</th>\n",
       "      <td>60</td>\n",
       "      <td>RL</td>\n",
       "      <td>65.0</td>\n",
       "      <td>8450</td>\n",
       "      <td>Pave</td>\n",
       "      <td>0</td>\n",
       "      <td>Reg</td>\n",
       "      <td>Lvl</td>\n",
       "      <td>AllPub</td>\n",
       "      <td>Inside</td>\n",
       "      <td>Gtl</td>\n",
       "      <td>CollgCr</td>\n",
       "      <td>Norm</td>\n",
       "      <td>Norm</td>\n",
       "      <td>1Fam</td>\n",
       "      <td>2Story</td>\n",
       "      <td>7</td>\n",
       "      <td>5</td>\n",
       "      <td>2003</td>\n",
       "      <td>2003</td>\n",
       "      <td>Gable</td>\n",
       "      <td>CompShg</td>\n",
       "      <td>VinylSd</td>\n",
       "      <td>VinylSd</td>\n",
       "      <td>BrkFace</td>\n",
       "      <td>196.0</td>\n",
       "      <td>4</td>\n",
       "      <td>3</td>\n",
       "      <td>PConc</td>\n",
       "      <td>4</td>\n",
       "      <td>3</td>\n",
       "      <td>No</td>\n",
       "      <td>GLQ</td>\n",
       "      <td>706</td>\n",
       "      <td>Unf</td>\n",
       "      <td>0</td>\n",
       "      <td>150</td>\n",
       "      <td>856</td>\n",
       "      <td>GasA</td>\n",
       "      <td>5</td>\n",
       "      <td>Y</td>\n",
       "      <td>SBrkr</td>\n",
       "      <td>856</td>\n",
       "      <td>854</td>\n",
       "      <td>0</td>\n",
       "      <td>1710</td>\n",
       "      <td>1</td>\n",
       "      <td>0</td>\n",
       "      <td>2</td>\n",
       "      <td>1</td>\n",
       "      <td>3</td>\n",
       "      <td>1</td>\n",
       "      <td>4</td>\n",
       "      <td>8</td>\n",
       "      <td>Typ</td>\n",
       "      <td>0</td>\n",
       "      <td>0</td>\n",
       "      <td>Attchd</td>\n",
       "      <td>2003.0</td>\n",
       "      <td>RFn</td>\n",
       "      <td>2</td>\n",
       "      <td>548</td>\n",
       "      <td>3</td>\n",
       "      <td>3</td>\n",
       "      <td>Y</td>\n",
       "      <td>0</td>\n",
       "      <td>61</td>\n",
       "      <td>0</td>\n",
       "      <td>0</td>\n",
       "      <td>0</td>\n",
       "      <td>0</td>\n",
       "      <td>0</td>\n",
       "      <td>2</td>\n",
       "      <td>2008</td>\n",
       "      <td>WD</td>\n",
       "      <td>Normal</td>\n",
       "      <td>208500</td>\n",
       "    </tr>\n",
       "    <tr>\n",
       "      <th>1</th>\n",
       "      <td>20</td>\n",
       "      <td>RL</td>\n",
       "      <td>80.0</td>\n",
       "      <td>9600</td>\n",
       "      <td>Pave</td>\n",
       "      <td>0</td>\n",
       "      <td>Reg</td>\n",
       "      <td>Lvl</td>\n",
       "      <td>AllPub</td>\n",
       "      <td>FR2</td>\n",
       "      <td>Gtl</td>\n",
       "      <td>Veenker</td>\n",
       "      <td>Feedr</td>\n",
       "      <td>Norm</td>\n",
       "      <td>1Fam</td>\n",
       "      <td>1Story</td>\n",
       "      <td>6</td>\n",
       "      <td>8</td>\n",
       "      <td>1976</td>\n",
       "      <td>1976</td>\n",
       "      <td>Gable</td>\n",
       "      <td>CompShg</td>\n",
       "      <td>MetalSd</td>\n",
       "      <td>MetalSd</td>\n",
       "      <td>None</td>\n",
       "      <td>0.0</td>\n",
       "      <td>3</td>\n",
       "      <td>3</td>\n",
       "      <td>CBlock</td>\n",
       "      <td>4</td>\n",
       "      <td>3</td>\n",
       "      <td>4</td>\n",
       "      <td>ALQ</td>\n",
       "      <td>978</td>\n",
       "      <td>Unf</td>\n",
       "      <td>0</td>\n",
       "      <td>284</td>\n",
       "      <td>1262</td>\n",
       "      <td>GasA</td>\n",
       "      <td>5</td>\n",
       "      <td>Y</td>\n",
       "      <td>SBrkr</td>\n",
       "      <td>1262</td>\n",
       "      <td>0</td>\n",
       "      <td>0</td>\n",
       "      <td>1262</td>\n",
       "      <td>0</td>\n",
       "      <td>1</td>\n",
       "      <td>2</td>\n",
       "      <td>0</td>\n",
       "      <td>3</td>\n",
       "      <td>1</td>\n",
       "      <td>3</td>\n",
       "      <td>6</td>\n",
       "      <td>Typ</td>\n",
       "      <td>1</td>\n",
       "      <td>3</td>\n",
       "      <td>Attchd</td>\n",
       "      <td>1976.0</td>\n",
       "      <td>RFn</td>\n",
       "      <td>2</td>\n",
       "      <td>460</td>\n",
       "      <td>3</td>\n",
       "      <td>3</td>\n",
       "      <td>Y</td>\n",
       "      <td>298</td>\n",
       "      <td>0</td>\n",
       "      <td>0</td>\n",
       "      <td>0</td>\n",
       "      <td>0</td>\n",
       "      <td>0</td>\n",
       "      <td>0</td>\n",
       "      <td>5</td>\n",
       "      <td>2007</td>\n",
       "      <td>WD</td>\n",
       "      <td>Normal</td>\n",
       "      <td>181500</td>\n",
       "    </tr>\n",
       "  </tbody>\n",
       "</table>\n",
       "</div>"
      ],
      "text/plain": [
       "   MSSubClass MSZoning  LotFrontage  LotArea Street Alley LotShape  \\\n",
       "0          60       RL         65.0     8450   Pave     0      Reg   \n",
       "1          20       RL         80.0     9600   Pave     0      Reg   \n",
       "\n",
       "  LandContour Utilities LotConfig LandSlope Neighborhood Condition1  \\\n",
       "0         Lvl    AllPub    Inside       Gtl      CollgCr       Norm   \n",
       "1         Lvl    AllPub       FR2       Gtl      Veenker      Feedr   \n",
       "\n",
       "  Condition2 BldgType HouseStyle  OverallQual  OverallCond  YearBuilt  \\\n",
       "0       Norm     1Fam     2Story            7            5       2003   \n",
       "1       Norm     1Fam     1Story            6            8       1976   \n",
       "\n",
       "   YearRemodAdd RoofStyle RoofMatl Exterior1st Exterior2nd MasVnrType  \\\n",
       "0          2003     Gable  CompShg     VinylSd     VinylSd    BrkFace   \n",
       "1          1976     Gable  CompShg     MetalSd     MetalSd       None   \n",
       "\n",
       "   MasVnrArea  ExterQual  ExterCond Foundation  BsmtQual  BsmtCond  \\\n",
       "0       196.0          4          3      PConc         4         3   \n",
       "1         0.0          3          3     CBlock         4         3   \n",
       "\n",
       "  BsmtExposure BsmtFinType1  BsmtFinSF1 BsmtFinType2  BsmtFinSF2  BsmtUnfSF  \\\n",
       "0           No          GLQ         706          Unf           0        150   \n",
       "1            4          ALQ         978          Unf           0        284   \n",
       "\n",
       "   TotalBsmtSF Heating  HeatingQC CentralAir Electrical  1stFlrSF  2ndFlrSF  \\\n",
       "0          856    GasA          5          Y      SBrkr       856       854   \n",
       "1         1262    GasA          5          Y      SBrkr      1262         0   \n",
       "\n",
       "   LowQualFinSF  GrLivArea  BsmtFullBath  BsmtHalfBath  FullBath  HalfBath  \\\n",
       "0             0       1710             1             0         2         1   \n",
       "1             0       1262             0             1         2         0   \n",
       "\n",
       "   BedroomAbvGr  KitchenAbvGr  KitchenQual  TotRmsAbvGrd Functional  \\\n",
       "0             3             1            4             8        Typ   \n",
       "1             3             1            3             6        Typ   \n",
       "\n",
       "   Fireplaces  FireplaceQu GarageType  GarageYrBlt GarageFinish  GarageCars  \\\n",
       "0           0            0     Attchd       2003.0          RFn           2   \n",
       "1           1            3     Attchd       1976.0          RFn           2   \n",
       "\n",
       "   GarageArea  GarageQual  GarageCond PavedDrive  WoodDeckSF  OpenPorchSF  \\\n",
       "0         548           3           3          Y           0           61   \n",
       "1         460           3           3          Y         298            0   \n",
       "\n",
       "   EnclosedPorch  3SsnPorch  ScreenPorch Fence  MiscVal  MoSold  YrSold  \\\n",
       "0              0          0            0     0        0       2    2008   \n",
       "1              0          0            0     0        0       5    2007   \n",
       "\n",
       "  SaleType SaleCondition  SalePrice  \n",
       "0       WD        Normal     208500  \n",
       "1       WD        Normal     181500  "
      ]
     },
     "execution_count": 13,
     "metadata": {},
     "output_type": "execute_result"
    }
   ],
   "source": [
    "clean_df.replace({'Ex': 5, 'Gd': 4, 'TA': 3, 'Fa': 2, 'Po': 1, 'none': 0}, inplace=True)\n",
    "clean_df.head(2)"
   ]
  },
  {
   "cell_type": "code",
   "execution_count": 14,
   "metadata": {},
   "outputs": [],
   "source": [
    "## Central Air\n",
    "ac=[]\n",
    "\n",
    "for each in clean_df['CentralAir']:\n",
    "    if each == 'N':\n",
    "        v=0\n",
    "    elif each == 'Y':\n",
    "        v=1\n",
    "    ac.append(v)\n",
    "    \n",
    "clean_df['CentralAC']=ac\n",
    "clean_df.drop('CentralAir', axis=1, inplace=True)"
   ]
  },
  {
   "cell_type": "code",
   "execution_count": 15,
   "metadata": {},
   "outputs": [],
   "source": [
    "## Functional\n",
    "fnc=[]\n",
    "\n",
    "for each in clean_df['Functional']:\n",
    "    if each=='Typ':\n",
    "        q=8\n",
    "    elif each =='Min1':\n",
    "        q=7\n",
    "    elif each =='Min2':\n",
    "        q=6\n",
    "    elif each =='Mod':\n",
    "        q=5\n",
    "    elif each =='Maj1':\n",
    "        q=4\n",
    "    elif each =='Maj2':\n",
    "        q=3\n",
    "    elif each == 'Sev':\n",
    "        q=2\n",
    "    elif each == 'Sal':\n",
    "        q=1\n",
    "    fnc.append(q)\n",
    "    \n",
    "clean_df['Functionality']=fnc\n",
    "clean_df.drop('Functional', axis=1, inplace=True)"
   ]
  },
  {
   "cell_type": "code",
   "execution_count": 16,
   "metadata": {},
   "outputs": [],
   "source": [
    "### Add a column using Median Neighborhood value\n",
    "\n",
    "meds=[]\n",
    "\n",
    "for each in clean_df['Neighborhood']:\n",
    "    if each == 'MeadowV':\n",
    "        m=88000\n",
    "    elif each == 'IDOTRR':\n",
    "        m=103000\n",
    "    elif each == 'BrDale':\n",
    "        m=106000\n",
    "    elif each == 'OldTown':\n",
    "        m=119000\n",
    "    elif each == 'Edwards':\n",
    "        m=121750\n",
    "    elif each == 'BrkSide':\n",
    "        m=124300\n",
    "    elif each == 'Sawyer':\n",
    "        m=135000\n",
    "    elif each == 'Blueste':\n",
    "        m=137500\n",
    "    elif each == 'SWISU':\n",
    "        m=139500\n",
    "    elif each == 'NAmes':\n",
    "        m=140000\n",
    "    elif each == 'NPkVill':\n",
    "        m=146000\n",
    "    elif each == 'Mitchel':\n",
    "        m=153500\n",
    "    elif each == 'SawyerW':\n",
    "        m=179900\n",
    "    elif each == 'Gilbert':\n",
    "        m=181000\n",
    "    elif each == 'NWAmes':\n",
    "        m=182900\n",
    "    elif each == 'Blmngtn':\n",
    "        m=191000\n",
    "    elif each == 'CollgCr':\n",
    "        m=197200\n",
    "    elif each == 'ClearCr':\n",
    "        m=200250\n",
    "    elif each == 'Crawfor':\n",
    "        m=200624\n",
    "    elif each == 'Veenker':\n",
    "        m=218000\n",
    "    elif each == 'Somerst':\n",
    "        m=225500\n",
    "    elif each == 'Timber':\n",
    "        m=228475\n",
    "    elif each == 'StoneBr':\n",
    "        m=278000\n",
    "    elif each == 'NoRidge':\n",
    "        m=301500\n",
    "    elif each == 'NridgHt':\n",
    "        m=315000\n",
    "        \n",
    "    meds.append(m)\n",
    "    \n",
    "clean_df['NeighborhoodMedValue']=meds"
   ]
  },
  {
   "cell_type": "code",
   "execution_count": 17,
   "metadata": {},
   "outputs": [],
   "source": [
    "## Add a column using Zoning median Price\n",
    "\n",
    "zmed=[]\n",
    "\n",
    "for each in clean_df['MSZoning']:\n",
    "    if each == 'C(all)':\n",
    "        z=74700\n",
    "    elif each == 'RM':\n",
    "        z=120500\n",
    "    elif each == 'RH':\n",
    "        z=136500\n",
    "    elif each == 'RL':\n",
    "        z=174000\n",
    "    elif each == 'FV':\n",
    "        z=205950\n",
    "    zmed.append(z)\n",
    "    \n",
    "clean_df['ZoningMedian']=zmed\n",
    "clean_df.drop('MSZoning', axis=1, inplace=True)"
   ]
  },
  {
   "cell_type": "code",
   "execution_count": 18,
   "metadata": {},
   "outputs": [],
   "source": [
    "## Add a column changing Electrical to representative of mean saleprice per category\n",
    "Elec=[]\n",
    "\n",
    "for each in clean_df['Electrical']:\n",
    "    if each == 'Mix':\n",
    "        E=.67\n",
    "    elif each =='FuseP':\n",
    "        E=.97\n",
    "    elif each == 'FuseF':\n",
    "        E=1.08\n",
    "    elif each == 'FuseA':\n",
    "        E=1.22\n",
    "    elif each =='SBrkr':\n",
    "        E=1.87\n",
    "    Elec.append(E)\n",
    "    \n",
    "clean_df[\"ElectricalCat\"]=Elec\n",
    "clean_df.drop('Electrical', axis=1, inplace=True)"
   ]
  },
  {
   "cell_type": "code",
   "execution_count": 19,
   "metadata": {},
   "outputs": [],
   "source": [
    "## Paved Drive based on Median sale price\n",
    "paved=[]\n",
    "for each in clean_df['PavedDrive']:\n",
    "    if each == 'N':\n",
    "        p=1.11\n",
    "    elif each == 'P':\n",
    "        p=1.32\n",
    "    elif each == 'Y':\n",
    "        p=1.69\n",
    "    paved.append(p)\n",
    "\n",
    "clean_df['Driveway']=paved\n",
    "clean_df.drop('PavedDrive', axis=1, inplace=True)"
   ]
  },
  {
   "cell_type": "code",
   "execution_count": 20,
   "metadata": {},
   "outputs": [],
   "source": [
    "## total sq ft plus basement\n",
    "clean_df['TotSFInclBsmt']= clean_df['GrLivArea']+clean_df['TotalBsmtSF']\n",
    "## Total Full Bath\n",
    "TotFullBath=clean_df['BsmtFullBath']+clean_df['FullBath']\n",
    "## Total Half Bath\n",
    "TotHalfBath=clean_df['BsmtHalfBath']+clean_df['HalfBath']\n",
    "## Total Baths with half baths represented as 0.2\n",
    "clean_df['TotalBaths']=TotFullBath+(TotHalfBath*0.2)"
   ]
  },
  {
   "cell_type": "code",
   "execution_count": 21,
   "metadata": {},
   "outputs": [],
   "source": [
    "### Add a column using  Median TotSFInclBsmt per NeighborhoodMedValue\n",
    "\n",
    "# medSF=clean_df.groupby('NeighborhoodMedValue').median()\n",
    "# medSF['TotalSF'].sort_values()\n",
    "\n",
    "medsf=[]\n",
    "\n",
    "for each in clean_df['NeighborhoodMedValue']:\n",
    "    if each == 88000:\n",
    "        m=1092\n",
    "    elif each == 103000:\n",
    "        m=1111\n",
    "    elif each == 106000:\n",
    "        m=1155\n",
    "    elif each == 119000:\n",
    "        m=1368\n",
    "    elif each == 121750:\n",
    "        m=1200\n",
    "    elif each == 124300:\n",
    "        m=1210\n",
    "    elif each == 135000:\n",
    "        m=1106\n",
    "    elif each == 137500:\n",
    "        m=1392\n",
    "    elif each == 139500:\n",
    "        m=1691\n",
    "    elif each == 140000:\n",
    "        m=1196\n",
    "    elif each == 146000:\n",
    "        m=1322\n",
    "    elif each == 153500:\n",
    "        m=1204\n",
    "    elif each == 179900:\n",
    "        m=1603\n",
    "    elif each == 181000:\n",
    "        m=1593\n",
    "    elif each == 182900:\n",
    "        m=1664\n",
    "    elif each == 191000:\n",
    "        m=1500\n",
    "    elif each == 197200:\n",
    "        m=1500\n",
    "    elif each == 200250:\n",
    "        m=1738\n",
    "    elif each == 200624:\n",
    "        m=1717\n",
    "    elif each == 218000:\n",
    "        m=1437\n",
    "    elif each == 225500:\n",
    "        m=1564\n",
    "    elif each == 228475:\n",
    "        m=1692\n",
    "    elif each == 278000:\n",
    "        m=1742\n",
    "    elif each == 301500:\n",
    "        m=2418\n",
    "    elif each == 315000:\n",
    "        m=1850\n",
    "        \n",
    "    medsf.append(m)\n",
    "    \n",
    "clean_df['MedianSFByNeighborhood']=medsf"
   ]
  },
  {
   "cell_type": "code",
   "execution_count": 22,
   "metadata": {},
   "outputs": [],
   "source": [
    "## Add column PricePerSF.  Will be removed before training, but use to make other columns(Avg)\n",
    "\n",
    "clean_df['PricePerSF']=(clean_df['SalePrice']/clean_df['TotSFInclBsmt'])"
   ]
  },
  {
   "cell_type": "code",
   "execution_count": 23,
   "metadata": {},
   "outputs": [],
   "source": [
    "## Add column MedianPricePerSF by Neighborhood and AvgByNeighborhood.  Price per SF will not be available in test data\n",
    "##clean_df[['PricePerSF', 'Neighborhood']].groupby('Neighborhood').median().sort_values(by='PricePerSF', ascending=True)\n",
    "##clean_df[['PricePerSF', 'Neighborhood']].groupby('Neighborhood').mean().sort_values(by='PricePerSF', ascending=True)\n",
    "medP=[]\n",
    "AvgP=[]\n",
    "\n",
    "for each in clean_df['Neighborhood']:\n",
    "    if each == 'SWISU':\n",
    "        m=55.23\n",
    "        a=58.10\n",
    "    elif each =='IDOTRR':\n",
    "        m=55.43\n",
    "        a=53.82\n",
    "    elif each =='OldTown':\n",
    "        m=57.49\n",
    "        a=57.58\n",
    "    elif each =='Edwards':\n",
    "        m=59.03\n",
    "        a=61.59\n",
    "    elif each =='BrDale':\n",
    "        m=59.24\n",
    "        a=61.00\n",
    "    elif each =='MeadowV':\n",
    "        m=59.92\n",
    "        a=59.22\n",
    "    elif each =='NAmes':\n",
    "        m=63.95\n",
    "        a=64.91\n",
    "    elif each =='BrkSide':\n",
    "        m=64.39\n",
    "        a=65.13\n",
    "    elif each =='NPkVill':\n",
    "        m=64.68\n",
    "        a=65.39\n",
    "    elif each =='Sawyer':\n",
    "        m=65.20\n",
    "        a=64.45\n",
    "    elif each =='NWAmes':\n",
    "        m=66.62\n",
    "        a=66.39\n",
    "    elif each =='Mitchel':\n",
    "        m=67.28\n",
    "        a=66.78\n",
    "    elif each =='Blueste':\n",
    "        m=67.87\n",
    "        a=67.87\n",
    "    elif each =='Blmngton':\n",
    "        m=68.56\n",
    "        a=70.71\n",
    "    elif each =='ClearCr':\n",
    "        m=69.54\n",
    "        a=71.81\n",
    "    elif each =='SawyerW':\n",
    "        m=71.13\n",
    "        a=70.96\n",
    "    elif each =='CollgCr':\n",
    "        m=74.80\n",
    "        a=75.21\n",
    "    elif each =='Crawfor':\n",
    "        m=76.32\n",
    "        a=74.95\n",
    "    elif each =='Gilbert':\n",
    "        m=76.62\n",
    "        a=77.38\n",
    "    elif each =='Timber':\n",
    "        m=78.26\n",
    "        a=77.44\n",
    "    elif each =='Veenker':\n",
    "        m=78.47\n",
    "        a=82.09\n",
    "    elif each=='NoRidge':\n",
    "        m=80.35\n",
    "        a=82.67\n",
    "    elif each =='Somerst':\n",
    "        m=83.21\n",
    "        a=82.65\n",
    "    elif each =='StoneBr':\n",
    "        m=87.64\n",
    "        a=89.28\n",
    "    elif each =='NridgHt':\n",
    "        m=88.89\n",
    "        a=88.61\n",
    "    medP.append(m)\n",
    "    AvgP.append(a)\n",
    "    \n",
    "clean_df['MedPPSFNeigh']=medP\n",
    "clean_df['AvgPPSFNeigh']=AvgP"
   ]
  },
  {
   "cell_type": "markdown",
   "metadata": {},
   "source": [
    "### Normalize the data between 2 and 3 std"
   ]
  },
  {
   "cell_type": "code",
   "execution_count": 24,
   "metadata": {},
   "outputs": [],
   "source": [
    "simp_df=clean_df.copy()\n",
    "simp_df.drop('PricePerSF', axis=1, inplace=True)"
   ]
  },
  {
   "cell_type": "code",
   "execution_count": 25,
   "metadata": {
    "scrolled": true
   },
   "outputs": [
    {
     "data": {
      "text/plain": [
       "SalePrice                 1.000000\n",
       "OverallQual               0.790982\n",
       "TotSFInclBsmt             0.778959\n",
       "NeighborhoodMedValue      0.733515\n",
       "GrLivArea                 0.708624\n",
       "ExterQual                 0.682639\n",
       "AvgPPSFNeigh              0.676919\n",
       "MedPPSFNeigh              0.667705\n",
       "KitchenQual               0.659600\n",
       "MedianSFByNeighborhood    0.647027\n",
       "GarageCars                0.640409\n",
       "GarageArea                0.623431\n",
       "TotalBsmtSF               0.613581\n",
       "TotalBaths                0.612933\n",
       "1stFlrSF                  0.605852\n",
       "BsmtQual                  0.585207\n",
       "FullBath                  0.560664\n",
       "TotRmsAbvGrd              0.533723\n",
       "YearBuilt                 0.522897\n",
       "FireplaceQu               0.520438\n",
       "YearRemodAdd              0.507101\n",
       "MasVnrArea                0.472614\n",
       "Fireplaces                0.466929\n",
       "HeatingQC                 0.427649\n",
       "BsmtFinSF1                0.386420\n",
       "LotFrontage               0.334771\n",
       "WoodDeckSF                0.324413\n",
       "2ndFlrSF                  0.319334\n",
       "OpenPorchSF               0.315856\n",
       "ZoningMedian              0.311055\n",
       "HalfBath                  0.284108\n",
       "GarageQual                0.273839\n",
       "LotArea                   0.263843\n",
       "GarageCond                0.263191\n",
       "GarageYrBlt               0.261366\n",
       "CentralAC                 0.251328\n",
       "ElectricalCat             0.244234\n",
       "Driveway                  0.233088\n",
       "BsmtFullBath              0.227122\n",
       "BsmtUnfSF                 0.214479\n",
       "BsmtCond                  0.212607\n",
       "BedroomAbvGr              0.168213\n",
       "ScreenPorch               0.111447\n",
       "Functionality             0.107619\n",
       "MoSold                    0.046432\n",
       "3SsnPorch                 0.044584\n",
       "ExterCond                 0.018899\n",
       "BsmtFinSF2               -0.011378\n",
       "BsmtHalfBath             -0.016844\n",
       "MiscVal                  -0.021190\n",
       "LowQualFinSF             -0.025606\n",
       "YrSold                   -0.028923\n",
       "OverallCond              -0.077856\n",
       "MSSubClass               -0.084284\n",
       "EnclosedPorch            -0.128578\n",
       "KitchenAbvGr             -0.135907\n",
       "Name: SalePrice, dtype: float64"
      ]
     },
     "execution_count": 25,
     "metadata": {},
     "output_type": "execute_result"
    }
   ],
   "source": [
    "## Look at Correlation and Normalize highest R2 values\n",
    "corr_matrix=simp_df.corr()\n",
    "corr_matrix['SalePrice'].sort_values(ascending=False)"
   ]
  },
  {
   "cell_type": "code",
   "execution_count": 26,
   "metadata": {},
   "outputs": [
    {
     "data": {
      "text/plain": [
       "3.0"
      ]
     },
     "execution_count": 26,
     "metadata": {},
     "output_type": "execute_result"
    }
   ],
   "source": [
    "## OverallQual 3 std = 3\n",
    "simp_df.loc[simp_df['OverallQual']<3, 'OverallQual']=np.nan\n",
    "simp_df.fillna(3, inplace=True)\n",
    "simp_df['OverallQual'].min()"
   ]
  },
  {
   "cell_type": "code",
   "execution_count": 27,
   "metadata": {},
   "outputs": [
    {
     "data": {
      "text/plain": [
       "2800.0"
      ]
     },
     "execution_count": 27,
     "metadata": {},
     "output_type": "execute_result"
    }
   ],
   "source": [
    "## GrLivArea  600 to 3000\n",
    "simp_df.loc[simp_df['GrLivArea']<600, 'GrLivArea']=np.nan\n",
    "simp_df.fillna(600, inplace=True)\n",
    "simp_df['GrLivArea'].min()\n",
    "\n",
    "simp_df.loc[simp_df['GrLivArea']>2800, 'GrLivArea']=np.nan\n",
    "simp_df.fillna(2800, inplace=True)\n",
    "simp_df['GrLivArea'].max()"
   ]
  },
  {
   "cell_type": "code",
   "execution_count": 28,
   "metadata": {},
   "outputs": [
    {
     "data": {
      "text/plain": [
       "2000.0"
      ]
     },
     "execution_count": 28,
     "metadata": {},
     "output_type": "execute_result"
    }
   ],
   "source": [
    "## TotalBsmtSF max 2000\n",
    "simp_df.loc[simp_df['TotalBsmtSF']>2000, 'TotalBsmtSF']=np.nan\n",
    "simp_df.fillna(2000, inplace=True)\n",
    "simp_df['TotalBsmtSF'].max()"
   ]
  },
  {
   "cell_type": "code",
   "execution_count": 29,
   "metadata": {},
   "outputs": [
    {
     "data": {
      "text/plain": [
       "4500.0"
      ]
     },
     "execution_count": 29,
     "metadata": {},
     "output_type": "execute_result"
    }
   ],
   "source": [
    "## TotSFInclBsmt limits 900 to 4500 \n",
    "simp_df.loc[simp_df['TotSFInclBsmt']<900, 'TotSFInclBsmt']=np.nan\n",
    "simp_df.fillna(900, inplace=True)\n",
    "simp_df['TotSFInclBsmt'].min()\n",
    "\n",
    "simp_df.loc[simp_df['TotSFInclBsmt']>4500, 'TotSFInclBsmt']=np.nan\n",
    "simp_df.fillna(4500, inplace=True)\n",
    "simp_df['TotSFInclBsmt'].max()"
   ]
  },
  {
   "cell_type": "code",
   "execution_count": 30,
   "metadata": {},
   "outputs": [
    {
     "data": {
      "text/plain": [
       "3.0"
      ]
     },
     "execution_count": 30,
     "metadata": {},
     "output_type": "execute_result"
    }
   ],
   "source": [
    "## GarageCars max 3\n",
    "simp_df.loc[simp_df['GarageCars']>3, 'GarageCars']=np.nan\n",
    "simp_df.fillna(3, inplace=True)\n",
    "simp_df['GarageCars'].max()"
   ]
  },
  {
   "cell_type": "code",
   "execution_count": 31,
   "metadata": {},
   "outputs": [
    {
     "data": {
      "text/plain": [
       "900.0"
      ]
     },
     "execution_count": 31,
     "metadata": {},
     "output_type": "execute_result"
    }
   ],
   "source": [
    "## GarageArea max 900\n",
    "simp_df.loc[simp_df['GarageArea']>900, 'GarageArea']=np.nan\n",
    "simp_df.fillna(900, inplace=True)\n",
    "simp_df['GarageArea'].max()"
   ]
  },
  {
   "cell_type": "code",
   "execution_count": 32,
   "metadata": {},
   "outputs": [
    {
     "data": {
      "text/plain": [
       "3.2"
      ]
     },
     "execution_count": 32,
     "metadata": {},
     "output_type": "execute_result"
    }
   ],
   "source": [
    "## TotalBaths max 3.2\n",
    "simp_df.loc[simp_df['TotalBaths']>3.2, 'TotalBaths']=np.nan\n",
    "simp_df.fillna(3.2, inplace=True)\n",
    "simp_df['TotalBaths'].max()"
   ]
  },
  {
   "cell_type": "code",
   "execution_count": 33,
   "metadata": {},
   "outputs": [
    {
     "data": {
      "text/plain": [
       "1920.0"
      ]
     },
     "execution_count": 33,
     "metadata": {},
     "output_type": "execute_result"
    }
   ],
   "source": [
    "## YearBuilt 1900 min\n",
    "simp_df.loc[simp_df['YearBuilt']<1920, 'YearBuilt']=np.nan\n",
    "simp_df.fillna(1920, inplace=True)\n",
    "simp_df['YearBuilt'].min()"
   ]
  },
  {
   "cell_type": "code",
   "execution_count": 34,
   "metadata": {},
   "outputs": [
    {
     "data": {
      "text/plain": [
       "4.0"
      ]
     },
     "execution_count": 34,
     "metadata": {},
     "output_type": "execute_result"
    }
   ],
   "source": [
    "##  TotRmsAbvGrd max 9 min 4\n",
    "simp_df.loc[simp_df['TotRmsAbvGrd']>9, 'TotRmsAbvGrd']=np.nan\n",
    "simp_df.fillna(9, inplace=True)\n",
    "simp_df['TotRmsAbvGrd'].max()\n",
    "\n",
    "simp_df.loc[simp_df['TotRmsAbvGrd']<4, 'TotRmsAbvGrd']=np.nan\n",
    "simp_df.fillna(4, inplace=True)\n",
    "simp_df['TotRmsAbvGrd'].min()"
   ]
  },
  {
   "cell_type": "code",
   "execution_count": 35,
   "metadata": {},
   "outputs": [
    {
     "data": {
      "text/plain": [
       "2.0"
      ]
     },
     "execution_count": 35,
     "metadata": {},
     "output_type": "execute_result"
    }
   ],
   "source": [
    "## Fireplaces max 2\n",
    "simp_df.loc[simp_df['Fireplaces']>2, 'Fireplaces']=np.nan\n",
    "simp_df.fillna(2, inplace=True)\n",
    "simp_df['Fireplaces'].max()"
   ]
  },
  {
   "cell_type": "code",
   "execution_count": 36,
   "metadata": {},
   "outputs": [
    {
     "data": {
      "text/plain": [
       "400.0"
      ]
     },
     "execution_count": 36,
     "metadata": {},
     "output_type": "execute_result"
    }
   ],
   "source": [
    "##  MasVnrArea group 0, 200, 400\n",
    "simp_df.loc[simp_df['MasVnrArea']>200, 'MasVnrArea']=np.nan\n",
    "simp_df.fillna(400, inplace=True)\n",
    "\n",
    "simp_df.loc[(simp_df['MasVnrArea']>1)&(simp_df['MasVnrArea']<=200), 'MasVnrArea']=np.nan\n",
    "simp_df.fillna(200, inplace=True)\n",
    "simp_df['MasVnrArea'].max()"
   ]
  },
  {
   "cell_type": "code",
   "execution_count": 37,
   "metadata": {},
   "outputs": [
    {
     "data": {
      "text/plain": [
       "100.0"
      ]
     },
     "execution_count": 37,
     "metadata": {},
     "output_type": "execute_result"
    }
   ],
   "source": [
    "## OpenPorchSF group 0, 50, 100\n",
    "simp_df.loc[(simp_df['OpenPorchSF']>1)&(simp_df['OpenPorchSF']<75), 'OpenPorchSF']=np.nan\n",
    "simp_df.fillna(50, inplace=True)\n",
    "\n",
    "simp_df.loc[simp_df['OpenPorchSF']>=75, 'OpenPorchSF']=np.nan\n",
    "simp_df.fillna(100, inplace=True)\n",
    "simp_df['OpenPorchSF'].max()"
   ]
  },
  {
   "cell_type": "code",
   "execution_count": 38,
   "metadata": {},
   "outputs": [
    {
     "data": {
      "text/plain": [
       "400.0"
      ]
     },
     "execution_count": 38,
     "metadata": {},
     "output_type": "execute_result"
    }
   ],
   "source": [
    "## WoodDeckSF groups 0, 100, 200, 300, 400\n",
    "simp_df.loc[(simp_df['WoodDeckSF']>1)&(simp_df['WoodDeckSF']<=100), 'WoodDeckSF']=np.nan\n",
    "simp_df.fillna(100, inplace=True)\n",
    "\n",
    "simp_df.loc[(simp_df['WoodDeckSF']>100)&(simp_df['WoodDeckSF']<=200), 'WoodDeckSF']=np.nan\n",
    "simp_df.fillna(200, inplace=True)\n",
    "\n",
    "simp_df.loc[(simp_df['WoodDeckSF']>200)&(simp_df['WoodDeckSF']<=300), 'WoodDeckSF']=np.nan\n",
    "simp_df.fillna(300, inplace=True)\n",
    "\n",
    "simp_df.loc[simp_df['WoodDeckSF']>300, 'WoodDeckSF']=np.nan\n",
    "simp_df.fillna(400, inplace=True)\n",
    "simp_df['WoodDeckSF'].max()"
   ]
  },
  {
   "cell_type": "code",
   "execution_count": 39,
   "metadata": {},
   "outputs": [
    {
     "data": {
      "text/plain": [
       "1500.0"
      ]
     },
     "execution_count": 39,
     "metadata": {},
     "output_type": "execute_result"
    }
   ],
   "source": [
    "## BsmtFinSF1 max at 1500\n",
    "simp_df.loc[simp_df['BsmtFinSF1']>1500, 'BsmtFinSF1']=np.nan\n",
    "simp_df.fillna(1500, inplace=True)\n",
    "simp_df['BsmtFinSF1'].max()"
   ]
  },
  {
   "cell_type": "code",
   "execution_count": 40,
   "metadata": {},
   "outputs": [
    {
     "data": {
      "text/plain": [
       "130.0"
      ]
     },
     "execution_count": 40,
     "metadata": {},
     "output_type": "execute_result"
    }
   ],
   "source": [
    "## LotFrontage max 130\n",
    "simp_df.loc[simp_df['LotFrontage']>130, 'LotFrontage']=np.nan\n",
    "simp_df.fillna(130, inplace=True)\n",
    "simp_df['LotFrontage'].max()"
   ]
  },
  {
   "cell_type": "code",
   "execution_count": 41,
   "metadata": {},
   "outputs": [
    {
     "data": {
      "text/plain": [
       "20000.0"
      ]
     },
     "execution_count": 41,
     "metadata": {},
     "output_type": "execute_result"
    }
   ],
   "source": [
    "## LotArea max 20000\n",
    "simp_df.loc[simp_df['LotArea']>20000, 'LotArea']=np.nan\n",
    "simp_df.fillna(20000, inplace=True)\n",
    "simp_df['LotArea'].max()"
   ]
  },
  {
   "cell_type": "code",
   "execution_count": 42,
   "metadata": {},
   "outputs": [],
   "source": [
    "## Drop columns with less than 0.1 R2\n",
    "simp_df.drop(['MoSold', '3SsnPorch', 'ExterCond', 'BsmtFinSF2', 'MiscVal',\n",
    "              'BsmtHalfBath', 'YrSold', 'OverallCond', 'LowQualFinSF', 'MSSubClass'], axis=1, inplace=True)\n",
    "# MoSold                    0.076006\n",
    "# 3SsnPorch                 0.040336\n",
    "# ExterCond                 0.027543\n",
    "# BsmtFinSF2                0.000937\n",
    "# MiscVal                  -0.014565\n",
    "# BsmtHalfBath             -0.023652\n",
    "# YrSold                   -0.032355\n",
    "# OverallCond              -0.057258\n",
    "# LowQualFinSF             -0.059779\n",
    "# MSSubClass               -0.063563"
   ]
  },
  {
   "cell_type": "code",
   "execution_count": 43,
   "metadata": {},
   "outputs": [
    {
     "data": {
      "text/plain": [
       "350.0"
      ]
     },
     "execution_count": 43,
     "metadata": {},
     "output_type": "execute_result"
    }
   ],
   "source": [
    "## EnclosedPorch max 350\n",
    "simp_df.loc[simp_df['EnclosedPorch']>350, 'EnclosedPorch']=np.nan\n",
    "simp_df.fillna(350, inplace=True)\n",
    "simp_df['EnclosedPorch'].max()"
   ]
  },
  {
   "cell_type": "code",
   "execution_count": 109,
   "metadata": {},
   "outputs": [],
   "source": [
    "## Make copy of simp_df to adjust SalePrice\n",
    "SP_DF=simp_df.copy()"
   ]
  },
  {
   "cell_type": "code",
   "execution_count": 110,
   "metadata": {},
   "outputs": [],
   "source": [
    "SP_DF=SP_DF.loc[SP_DF['SalePrice']<=450000]\n",
    "#len(SP_DF.loc[SP_DF['SalePrice']>450000])"
   ]
  },
  {
   "cell_type": "markdown",
   "metadata": {},
   "source": [
    "## Integer Only for test run"
   ]
  },
  {
   "cell_type": "code",
   "execution_count": 111,
   "metadata": {},
   "outputs": [
    {
     "data": {
      "text/html": [
       "<div>\n",
       "<style scoped>\n",
       "    .dataframe tbody tr th:only-of-type {\n",
       "        vertical-align: middle;\n",
       "    }\n",
       "\n",
       "    .dataframe tbody tr th {\n",
       "        vertical-align: top;\n",
       "    }\n",
       "\n",
       "    .dataframe thead th {\n",
       "        text-align: right;\n",
       "    }\n",
       "</style>\n",
       "<table border=\"1\" class=\"dataframe\">\n",
       "  <thead>\n",
       "    <tr style=\"text-align: right;\">\n",
       "      <th></th>\n",
       "      <th>LotFrontage</th>\n",
       "      <th>LotArea</th>\n",
       "      <th>OverallQual</th>\n",
       "      <th>YearBuilt</th>\n",
       "      <th>YearRemodAdd</th>\n",
       "      <th>MasVnrArea</th>\n",
       "      <th>ExterQual</th>\n",
       "      <th>BsmtQual</th>\n",
       "      <th>BsmtCond</th>\n",
       "      <th>BsmtFinSF1</th>\n",
       "      <th>BsmtUnfSF</th>\n",
       "      <th>TotalBsmtSF</th>\n",
       "      <th>HeatingQC</th>\n",
       "      <th>1stFlrSF</th>\n",
       "      <th>2ndFlrSF</th>\n",
       "      <th>GrLivArea</th>\n",
       "      <th>BsmtFullBath</th>\n",
       "      <th>FullBath</th>\n",
       "      <th>HalfBath</th>\n",
       "      <th>BedroomAbvGr</th>\n",
       "      <th>KitchenAbvGr</th>\n",
       "      <th>KitchenQual</th>\n",
       "      <th>TotRmsAbvGrd</th>\n",
       "      <th>Fireplaces</th>\n",
       "      <th>FireplaceQu</th>\n",
       "      <th>GarageYrBlt</th>\n",
       "      <th>GarageCars</th>\n",
       "      <th>GarageArea</th>\n",
       "      <th>GarageQual</th>\n",
       "      <th>GarageCond</th>\n",
       "      <th>WoodDeckSF</th>\n",
       "      <th>OpenPorchSF</th>\n",
       "      <th>EnclosedPorch</th>\n",
       "      <th>ScreenPorch</th>\n",
       "      <th>SalePrice</th>\n",
       "      <th>CentralAC</th>\n",
       "      <th>Functionality</th>\n",
       "      <th>NeighborhoodMedValue</th>\n",
       "      <th>ZoningMedian</th>\n",
       "      <th>ElectricalCat</th>\n",
       "      <th>Driveway</th>\n",
       "      <th>TotSFInclBsmt</th>\n",
       "      <th>TotalBaths</th>\n",
       "      <th>MedianSFByNeighborhood</th>\n",
       "      <th>MedPPSFNeigh</th>\n",
       "      <th>AvgPPSFNeigh</th>\n",
       "    </tr>\n",
       "  </thead>\n",
       "  <tbody>\n",
       "    <tr>\n",
       "      <th>0</th>\n",
       "      <td>65.0</td>\n",
       "      <td>8450.0</td>\n",
       "      <td>7.0</td>\n",
       "      <td>2003.0</td>\n",
       "      <td>2003</td>\n",
       "      <td>200.0</td>\n",
       "      <td>4</td>\n",
       "      <td>4</td>\n",
       "      <td>3</td>\n",
       "      <td>706.0</td>\n",
       "      <td>150</td>\n",
       "      <td>856.0</td>\n",
       "      <td>5</td>\n",
       "      <td>856</td>\n",
       "      <td>854</td>\n",
       "      <td>1710.0</td>\n",
       "      <td>1</td>\n",
       "      <td>2</td>\n",
       "      <td>1</td>\n",
       "      <td>3</td>\n",
       "      <td>1</td>\n",
       "      <td>4</td>\n",
       "      <td>8.0</td>\n",
       "      <td>0.0</td>\n",
       "      <td>0</td>\n",
       "      <td>2003.0</td>\n",
       "      <td>2.0</td>\n",
       "      <td>548.0</td>\n",
       "      <td>3</td>\n",
       "      <td>3</td>\n",
       "      <td>0.0</td>\n",
       "      <td>50.0</td>\n",
       "      <td>0.0</td>\n",
       "      <td>0</td>\n",
       "      <td>208500</td>\n",
       "      <td>1</td>\n",
       "      <td>8</td>\n",
       "      <td>197200</td>\n",
       "      <td>174000</td>\n",
       "      <td>1.87</td>\n",
       "      <td>1.69</td>\n",
       "      <td>2566.0</td>\n",
       "      <td>3.2</td>\n",
       "      <td>1500</td>\n",
       "      <td>74.80</td>\n",
       "      <td>75.21</td>\n",
       "    </tr>\n",
       "    <tr>\n",
       "      <th>1</th>\n",
       "      <td>80.0</td>\n",
       "      <td>9600.0</td>\n",
       "      <td>6.0</td>\n",
       "      <td>1976.0</td>\n",
       "      <td>1976</td>\n",
       "      <td>0.0</td>\n",
       "      <td>3</td>\n",
       "      <td>4</td>\n",
       "      <td>3</td>\n",
       "      <td>978.0</td>\n",
       "      <td>284</td>\n",
       "      <td>1262.0</td>\n",
       "      <td>5</td>\n",
       "      <td>1262</td>\n",
       "      <td>0</td>\n",
       "      <td>1262.0</td>\n",
       "      <td>0</td>\n",
       "      <td>2</td>\n",
       "      <td>0</td>\n",
       "      <td>3</td>\n",
       "      <td>1</td>\n",
       "      <td>3</td>\n",
       "      <td>6.0</td>\n",
       "      <td>1.0</td>\n",
       "      <td>3</td>\n",
       "      <td>1976.0</td>\n",
       "      <td>2.0</td>\n",
       "      <td>460.0</td>\n",
       "      <td>3</td>\n",
       "      <td>3</td>\n",
       "      <td>300.0</td>\n",
       "      <td>0.0</td>\n",
       "      <td>0.0</td>\n",
       "      <td>0</td>\n",
       "      <td>181500</td>\n",
       "      <td>1</td>\n",
       "      <td>8</td>\n",
       "      <td>218000</td>\n",
       "      <td>174000</td>\n",
       "      <td>1.87</td>\n",
       "      <td>1.69</td>\n",
       "      <td>2524.0</td>\n",
       "      <td>2.2</td>\n",
       "      <td>1437</td>\n",
       "      <td>78.47</td>\n",
       "      <td>82.09</td>\n",
       "    </tr>\n",
       "  </tbody>\n",
       "</table>\n",
       "</div>"
      ],
      "text/plain": [
       "   LotFrontage  LotArea  OverallQual  YearBuilt  YearRemodAdd  MasVnrArea  \\\n",
       "0         65.0   8450.0          7.0     2003.0          2003       200.0   \n",
       "1         80.0   9600.0          6.0     1976.0          1976         0.0   \n",
       "\n",
       "   ExterQual  BsmtQual  BsmtCond  BsmtFinSF1  BsmtUnfSF  TotalBsmtSF  \\\n",
       "0          4         4         3       706.0        150        856.0   \n",
       "1          3         4         3       978.0        284       1262.0   \n",
       "\n",
       "   HeatingQC  1stFlrSF  2ndFlrSF  GrLivArea  BsmtFullBath  FullBath  HalfBath  \\\n",
       "0          5       856       854     1710.0             1         2         1   \n",
       "1          5      1262         0     1262.0             0         2         0   \n",
       "\n",
       "   BedroomAbvGr  KitchenAbvGr  KitchenQual  TotRmsAbvGrd  Fireplaces  \\\n",
       "0             3             1            4           8.0         0.0   \n",
       "1             3             1            3           6.0         1.0   \n",
       "\n",
       "   FireplaceQu  GarageYrBlt  GarageCars  GarageArea  GarageQual  GarageCond  \\\n",
       "0            0       2003.0         2.0       548.0           3           3   \n",
       "1            3       1976.0         2.0       460.0           3           3   \n",
       "\n",
       "   WoodDeckSF  OpenPorchSF  EnclosedPorch  ScreenPorch  SalePrice  CentralAC  \\\n",
       "0         0.0         50.0            0.0            0     208500          1   \n",
       "1       300.0          0.0            0.0            0     181500          1   \n",
       "\n",
       "   Functionality  NeighborhoodMedValue  ZoningMedian  ElectricalCat  Driveway  \\\n",
       "0              8                197200        174000           1.87      1.69   \n",
       "1              8                218000        174000           1.87      1.69   \n",
       "\n",
       "   TotSFInclBsmt  TotalBaths  MedianSFByNeighborhood  MedPPSFNeigh  \\\n",
       "0         2566.0         3.2                    1500         74.80   \n",
       "1         2524.0         2.2                    1437         78.47   \n",
       "\n",
       "   AvgPPSFNeigh  \n",
       "0         75.21  \n",
       "1         82.09  "
      ]
     },
     "execution_count": 111,
     "metadata": {},
     "output_type": "execute_result"
    }
   ],
   "source": [
    "IO_DF=SP_DF.select_dtypes(include='number')\n",
    "IO_DF.head(2)"
   ]
  },
  {
   "cell_type": "code",
   "execution_count": 112,
   "metadata": {},
   "outputs": [],
   "source": [
    "from sklearn.model_selection import train_test_split\n",
    "from sklearn.metrics import mean_squared_error\n",
    "from sklearn.ensemble import RandomForestRegressor\n",
    "from sklearn.preprocessing import StandardScaler"
   ]
  },
  {
   "cell_type": "code",
   "execution_count": 113,
   "metadata": {},
   "outputs": [],
   "source": [
    "X=IO_DF.drop('SalePrice', axis=1)\n",
    "y=IO_DF['SalePrice']\n",
    "\n",
    "stdscaler=StandardScaler()\n",
    "X_scaled=stdscaler.fit_transform(X)\n",
    "\n",
    "X_train, X_test, y_train, y_test=train_test_split(X_scaled, y, train_size=.8, random_state=22)"
   ]
  },
  {
   "cell_type": "code",
   "execution_count": 114,
   "metadata": {},
   "outputs": [
    {
     "data": {
      "text/plain": [
       "0.9832582692299998"
      ]
     },
     "execution_count": 114,
     "metadata": {},
     "output_type": "execute_result"
    }
   ],
   "source": [
    "RF1=RandomForestRegressor()\n",
    "\n",
    "RF1.fit(X_train, y_train)\n",
    "RF1.score(X_train, y_train)"
   ]
  },
  {
   "cell_type": "code",
   "execution_count": 115,
   "metadata": {},
   "outputs": [
    {
     "data": {
      "text/plain": [
       "0.8990937572697215"
      ]
     },
     "execution_count": 115,
     "metadata": {},
     "output_type": "execute_result"
    }
   ],
   "source": [
    "RF1.score(X_test, y_test)"
   ]
  },
  {
   "cell_type": "code",
   "execution_count": 116,
   "metadata": {},
   "outputs": [
    {
     "data": {
      "text/plain": [
       "22397.785089119323"
      ]
     },
     "execution_count": 116,
     "metadata": {},
     "output_type": "execute_result"
    }
   ],
   "source": [
    "RF1_predictions=RF1.predict(X_test)\n",
    "\n",
    "RF1_mse= mean_squared_error(y_test, RF1_predictions)\n",
    "RF1_rmse=np.sqrt(RF1_mse)\n",
    "RF1_rmse"
   ]
  },
  {
   "cell_type": "code",
   "execution_count": 117,
   "metadata": {},
   "outputs": [],
   "source": [
    "import math\n",
    "ylog=[]\n",
    "\n",
    "for each in y_test:\n",
    "    log=math.log(each)\n",
    "    ylog.append(log)\n",
    "\n",
    "predlog=[]\n",
    "\n",
    "for each in RF1_predictions:\n",
    "    log=math.log(each)\n",
    "    predlog.append(log)"
   ]
  },
  {
   "cell_type": "code",
   "execution_count": 118,
   "metadata": {},
   "outputs": [
    {
     "data": {
      "text/plain": [
       "0.13095926858409584"
      ]
     },
     "execution_count": 118,
     "metadata": {},
     "output_type": "execute_result"
    }
   ],
   "source": [
    "log_mse= mean_squared_error(ylog, predlog)\n",
    "log_rmse=np.sqrt(log_mse)\n",
    "log_rmse\n",
    "\n",
    "# simp_df under 350K= 0.1192"
   ]
  },
  {
   "cell_type": "code",
   "execution_count": 119,
   "metadata": {
    "scrolled": false
   },
   "outputs": [
    {
     "data": {
      "image/png": "[encoded data removed]",
      "text/plain": [
       "<Figure size 432x288 with 1 Axes>"
      ]
     },
     "metadata": {
      "needs_background": "light"
     },
     "output_type": "display_data"
    }
   ],
   "source": [
    "plt.scatter(y_test, RF1_predictions,)\n",
    "plt.plot(y_test, y_test, 'k-')\n",
    "plt.grid(axis='both')"
   ]
  },
  {
   "cell_type": "markdown",
   "metadata": {},
   "source": [
    "## Log results when predictions over 350K are removed"
   ]
  },
  {
   "cell_type": "code",
   "execution_count": 57,
   "metadata": {
    "scrolled": true
   },
   "outputs": [
    {
     "data": {
      "text/html": [
       "<div>\n",
       "<style scoped>\n",
       "    .dataframe tbody tr th:only-of-type {\n",
       "        vertical-align: middle;\n",
       "    }\n",
       "\n",
       "    .dataframe tbody tr th {\n",
       "        vertical-align: top;\n",
       "    }\n",
       "\n",
       "    .dataframe thead th {\n",
       "        text-align: right;\n",
       "    }\n",
       "</style>\n",
       "<table border=\"1\" class=\"dataframe\">\n",
       "  <thead>\n",
       "    <tr style=\"text-align: right;\">\n",
       "      <th></th>\n",
       "      <th>Actual</th>\n",
       "      <th>Predicted</th>\n",
       "    </tr>\n",
       "  </thead>\n",
       "  <tbody>\n",
       "    <tr>\n",
       "      <th>1159</th>\n",
       "      <td>185000</td>\n",
       "      <td>198575.652595</td>\n",
       "    </tr>\n",
       "    <tr>\n",
       "      <th>866</th>\n",
       "      <td>248900</td>\n",
       "      <td>255914.061000</td>\n",
       "    </tr>\n",
       "    <tr>\n",
       "      <th>432</th>\n",
       "      <td>122500</td>\n",
       "      <td>128069.067000</td>\n",
       "    </tr>\n",
       "    <tr>\n",
       "      <th>798</th>\n",
       "      <td>485000</td>\n",
       "      <td>538118.687000</td>\n",
       "    </tr>\n",
       "    <tr>\n",
       "      <th>1287</th>\n",
       "      <td>190000</td>\n",
       "      <td>190036.767861</td>\n",
       "    </tr>\n",
       "  </tbody>\n",
       "</table>\n",
       "</div>"
      ],
      "text/plain": [
       "      Actual      Predicted\n",
       "1159  185000  198575.652595\n",
       "866   248900  255914.061000\n",
       "432   122500  128069.067000\n",
       "798   485000  538118.687000\n",
       "1287  190000  190036.767861"
      ]
     },
     "execution_count": 57,
     "metadata": {},
     "output_type": "execute_result"
    }
   ],
   "source": [
    "Results=pd.DataFrame({\n",
    "    'Actual': y_test,\n",
    "    'Predicted': forest_predictions\n",
    "})\n",
    "Results.head()"
   ]
  },
  {
   "cell_type": "code",
   "execution_count": 64,
   "metadata": {},
   "outputs": [],
   "source": [
    "Results_under_350=Results.loc[Results['Predicted']<250000]\n",
    "\n",
    "ylog=[]\n",
    "\n",
    "for each in Results_under_350['Actual']:\n",
    "    log=math.log(each)\n",
    "    ylog.append(log)\n",
    "\n",
    "predlog=[]\n",
    "\n",
    "for each in Results_under_350['Predicted']:\n",
    "    log=math.log(each)\n",
    "    predlog.append(log)"
   ]
  },
  {
   "cell_type": "code",
   "execution_count": 65,
   "metadata": {},
   "outputs": [
    {
     "data": {
      "text/plain": [
       "0.12528375075520634"
      ]
     },
     "execution_count": 65,
     "metadata": {},
     "output_type": "execute_result"
    }
   ],
   "source": [
    "log_mse= mean_squared_error(ylog, predlog)\n",
    "log_rmse=np.sqrt(log_mse)\n",
    "log_rmse"
   ]
  },
  {
   "cell_type": "code",
   "execution_count": 66,
   "metadata": {
    "scrolled": true
   },
   "outputs": [
    {
     "data": {
      "text/plain": [
       "RandomizedSearchCV(cv=5, error_score=nan,\n",
       "                   estimator=RandomForestRegressor(bootstrap=True,\n",
       "                                                   ccp_alpha=0.0,\n",
       "                                                   criterion='mse',\n",
       "                                                   max_depth=None,\n",
       "                                                   max_features='auto',\n",
       "                                                   max_leaf_nodes=None,\n",
       "                                                   max_samples=None,\n",
       "                                                   min_impurity_decrease=0.0,\n",
       "                                                   min_impurity_split=None,\n",
       "                                                   min_samples_leaf=1,\n",
       "                                                   min_samples_split=2,\n",
       "                                                   min_weight_fraction_leaf=0.0,\n",
       "                                                   n_estimators=100,\n",
       "                                                   n_jobs=None, oob_score=False,\n",
       "                                                   random_state=None, verbose=0,\n",
       "                                                   warm_start=False),\n",
       "                   iid='deprecated', n_iter=10, n_jobs=None,\n",
       "                   param_distributions={'bootstrap': [True, False],\n",
       "                                        'max_depth': [10, 20, 35],\n",
       "                                        'max_features': ['auto', 'sqrt'],\n",
       "                                        'n_estimators': [500, 1000, 2000]},\n",
       "                   pre_dispatch='2*n_jobs', random_state=42, refit=True,\n",
       "                   return_train_score=False, scoring=None, verbose=0)"
      ]
     },
     "execution_count": 66,
     "metadata": {},
     "output_type": "execute_result"
    }
   ],
   "source": [
    "from sklearn.model_selection import RandomizedSearchCV\n",
    "RF=RandomForestRegressor()\n",
    "\n",
    "grid= {\n",
    "    'n_estimators': [500, 1000, 2000],\n",
    "    'max_depth': [10,20,35],\n",
    "    'max_features': ['auto', 'sqrt'],\n",
    "    'bootstrap': [True, False]\n",
    "}\n",
    "\n",
    "RF_T=RandomizedSearchCV(RF, grid, cv=5, random_state=42)\n",
    "\n",
    "RF_T.fit(X_train, y_train)\n"
   ]
  },
  {
   "cell_type": "code",
   "execution_count": 67,
   "metadata": {},
   "outputs": [
    {
     "data": {
      "text/plain": [
       "{'n_estimators': 2000,\n",
       " 'max_features': 'sqrt',\n",
       " 'max_depth': 35,\n",
       " 'bootstrap': False}"
      ]
     },
     "execution_count": 67,
     "metadata": {},
     "output_type": "execute_result"
    }
   ],
   "source": [
    "RF_T.best_params_"
   ]
  },
  {
   "cell_type": "code",
   "execution_count": 68,
   "metadata": {},
   "outputs": [
    {
     "data": {
      "text/plain": [
       "0.9999953559529202"
      ]
     },
     "execution_count": 68,
     "metadata": {},
     "output_type": "execute_result"
    }
   ],
   "source": [
    "RF_T.score(X_train, y_train)"
   ]
  },
  {
   "cell_type": "code",
   "execution_count": 69,
   "metadata": {},
   "outputs": [
    {
     "data": {
      "text/plain": [
       "0.8971017437147543"
      ]
     },
     "execution_count": 69,
     "metadata": {},
     "output_type": "execute_result"
    }
   ],
   "source": [
    "RF_T.score(X_test, y_test)"
   ]
  },
  {
   "cell_type": "code",
   "execution_count": 71,
   "metadata": {
    "scrolled": true
   },
   "outputs": [
    {
     "data": {
      "text/plain": [
       "25118.79223853546"
      ]
     },
     "execution_count": 71,
     "metadata": {},
     "output_type": "execute_result"
    }
   ],
   "source": [
    "RFT_predictions=RF_T.predict(X_test)\n",
    "\n",
    "RFT_mse= mean_squared_error(y_test, RFT_predictions)\n",
    "RFT_rmse=np.sqrt(RFT_mse)\n",
    "RFT_rmse\n",
    "\n",
    "## Train with <=350000   =11,398"
   ]
  },
  {
   "cell_type": "code",
   "execution_count": 81,
   "metadata": {},
   "outputs": [],
   "source": [
    "ylog=[]\n",
    "\n",
    "for each in y_test:\n",
    "    log=math.log(each)\n",
    "    ylog.append(log)\n",
    "\n",
    "predlog=[]\n",
    "\n",
    "for each in RFT_predictions:\n",
    "    log=math.log(each)\n",
    "    predlog.append(log)"
   ]
  },
  {
   "cell_type": "code",
   "execution_count": 82,
   "metadata": {},
   "outputs": [
    {
     "data": {
      "text/plain": [
       "0.13282009226654384"
      ]
     },
     "execution_count": 82,
     "metadata": {},
     "output_type": "execute_result"
    }
   ],
   "source": [
    "log_mse= mean_squared_error(ylog, predlog)\n",
    "log_rmse=np.sqrt(log_mse)\n",
    "log_rmse"
   ]
  },
  {
   "cell_type": "code",
   "execution_count": null,
   "metadata": {},
   "outputs": [],
   "source": [
    "plt.scatter(y_test, RF_predictions)\n"
   ]
  },
  {
   "cell_type": "code",
   "execution_count": 72,
   "metadata": {},
   "outputs": [],
   "source": [
    "import pickle\n",
    "model2= pickle.load(open('Random_Forest.sav', 'rb'))"
   ]
  },
  {
   "cell_type": "code",
   "execution_count": 87,
   "metadata": {
    "scrolled": true
   },
   "outputs": [
    {
     "data": {
      "text/plain": [
       "0.8352858964518863"
      ]
     },
     "execution_count": 87,
     "metadata": {},
     "output_type": "execute_result"
    }
   ],
   "source": [
    "model2.score(X_test, y_test)"
   ]
  },
  {
   "cell_type": "code",
   "execution_count": 88,
   "metadata": {},
   "outputs": [
    {
     "data": {
      "text/plain": [
       "31780.457120526327"
      ]
     },
     "execution_count": 88,
     "metadata": {},
     "output_type": "execute_result"
    }
   ],
   "source": [
    "M2_predictions=model2.predict(X_test)\n",
    "\n",
    "M2_mse= mean_squared_error(y_test, M2_predictions)\n",
    "M2_rmse=np.sqrt(M2_mse)\n",
    "M2_rmse\n"
   ]
  },
  {
   "cell_type": "code",
   "execution_count": 89,
   "metadata": {},
   "outputs": [],
   "source": [
    "pre=model2.predict(X_test)"
   ]
  },
  {
   "cell_type": "code",
   "execution_count": 90,
   "metadata": {},
   "outputs": [
    {
     "data": {
      "image/png": "[encoded data removed]",
      "text/plain": [
       "<Figure size 432x288 with 1 Axes>"
      ]
     },
     "metadata": {
      "needs_background": "light"
     },
     "output_type": "display_data"
    }
   ],
   "source": [
    "plt.scatter(y_test, pre)\n",
    "plt.plot(y_test, y_test, 'k-')\n",
    "plt.grid(axis='both')"
   ]
  },
  {
   "cell_type": "code",
   "execution_count": 91,
   "metadata": {},
   "outputs": [
    {
     "data": {
      "text/html": [
       "<div>\n",
       "<style scoped>\n",
       "    .dataframe tbody tr th:only-of-type {\n",
       "        vertical-align: middle;\n",
       "    }\n",
       "\n",
       "    .dataframe tbody tr th {\n",
       "        vertical-align: top;\n",
       "    }\n",
       "\n",
       "    .dataframe thead th {\n",
       "        text-align: right;\n",
       "    }\n",
       "</style>\n",
       "<table border=\"1\" class=\"dataframe\">\n",
       "  <thead>\n",
       "    <tr style=\"text-align: right;\">\n",
       "      <th></th>\n",
       "      <th>Actual</th>\n",
       "      <th>Predicted</th>\n",
       "    </tr>\n",
       "  </thead>\n",
       "  <tbody>\n",
       "    <tr>\n",
       "      <th>1159</th>\n",
       "      <td>185000</td>\n",
       "      <td>185896.90</td>\n",
       "    </tr>\n",
       "    <tr>\n",
       "      <th>866</th>\n",
       "      <td>248900</td>\n",
       "      <td>242259.97</td>\n",
       "    </tr>\n",
       "    <tr>\n",
       "      <th>432</th>\n",
       "      <td>122500</td>\n",
       "      <td>121531.25</td>\n",
       "    </tr>\n",
       "    <tr>\n",
       "      <th>798</th>\n",
       "      <td>485000</td>\n",
       "      <td>302491.35</td>\n",
       "    </tr>\n",
       "    <tr>\n",
       "      <th>1287</th>\n",
       "      <td>190000</td>\n",
       "      <td>184206.29</td>\n",
       "    </tr>\n",
       "  </tbody>\n",
       "</table>\n",
       "</div>"
      ],
      "text/plain": [
       "      Actual  Predicted\n",
       "1159  185000  185896.90\n",
       "866   248900  242259.97\n",
       "432   122500  121531.25\n",
       "798   485000  302491.35\n",
       "1287  190000  184206.29"
      ]
     },
     "execution_count": 91,
     "metadata": {},
     "output_type": "execute_result"
    }
   ],
   "source": [
    "Results2=pd.DataFrame({\n",
    "    'Actual': y_test,\n",
    "    'Predicted': pre\n",
    "})\n",
    "Results2.head()"
   ]
  },
  {
   "cell_type": "code",
   "execution_count": 92,
   "metadata": {},
   "outputs": [],
   "source": [
    "Results2_under_350=Results2.loc[Results2['Predicted']<250000]\n",
    "\n",
    "ylog=[]\n",
    "\n",
    "for each in Results_under_350['Actual']:\n",
    "    log=math.log(each)\n",
    "    ylog.append(log)\n",
    "\n",
    "predlog=[]\n",
    "\n",
    "for each in Results_under_350['Predicted']:\n",
    "    log=math.log(each)\n",
    "    predlog.append(log)"
   ]
  },
  {
   "cell_type": "code",
   "execution_count": 93,
   "metadata": {},
   "outputs": [
    {
     "data": {
      "text/plain": [
       "0.12528375075520634"
      ]
     },
     "execution_count": 93,
     "metadata": {},
     "output_type": "execute_result"
    }
   ],
   "source": [
    "log_mse= mean_squared_error(ylog, predlog)\n",
    "log_rmse=np.sqrt(log_mse)\n",
    "log_rmse"
   ]
  }
 ],
 "metadata": {
  "kernelspec": {
   "display_name": "Python 3",
   "language": "python",
   "name": "python3"
  },
  "language_info": {
   "codemirror_mode": {
    "name": "ipython",
    "version": 3
   },
   "file_extension": ".py",
   "mimetype": "text/x-python",
   "name": "python",
   "nbconvert_exporter": "python",
   "pygments_lexer": "ipython3",
   "version": "3.7.6"
  }
 },
 "nbformat": 4,
 "nbformat_minor": 4
}
